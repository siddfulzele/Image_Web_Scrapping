{
 "cells": [
  {
   "cell_type": "code",
   "execution_count": 135,
   "metadata": {},
   "outputs": [],
   "source": [
    "from bs4 import BeautifulSoup\n",
    "import requests\n",
    "import shutil\n",
    "import pandas as pd\n",
    "import csv\n",
    "import matplotlib.pyplot as plt\n",
    "import matplotlib.image as mpimg\n",
    "from IPython.core.display import display, HTML"
   ]
  },
  {
   "cell_type": "code",
   "execution_count": 136,
   "metadata": {},
   "outputs": [
    {
     "name": "stdout",
     "output_type": "stream",
     "text": [
      "A Light in the Attic - 2cdad67c44b002e7ead0cc35693c0e8b.jpg\n",
      "Tipping the Velvet - 260c6ae16bce31c8f8c95daddd9f4a1c.jpg\n",
      "Soumission - 3eef99c9d9adef34639f510662022830.jpg\n",
      "Sharp Objects - 3251cf3a3412f53f339e42cac2134093.jpg\n",
      "Sapiens: A Brief History of Humankind - bea5697f2534a2f86a3ef27b5a8c12a6.jpg\n",
      "The Requiem Red - 68339b4c9bc034267e1da611ab3b34f8.jpg\n",
      "The Dirty Little Secrets of Getting Your Dream Job - 92274a95b7c251fea59a2b8a78275ab4.jpg\n",
      "The Coming Woman: A Novel Based on the Life of the Infamous Feminist, Victoria Woodhull - 3d54940e57e662c4dd1f3ff00c78cc64.jpg\n",
      "The Boys in the Boat: Nine Americans and Their Epic Quest for Gold at the 1936 Berlin Olympics - 66883b91f6804b2323c8369331cb7dd1.jpg\n",
      "The Black Maria - 5846057e28022268153beff6d352b06c.jpg\n",
      "Starving Hearts (Triangular Trade Trilogy, #1) - bef44da28c98f905a3ebec0b87be8530.jpg\n",
      "Shakespeare's Sonnets - 1048f63d3b5061cd2f424d20b3f9b666.jpg\n",
      "Set Me Free - 5b88c52633f53cacf162c15f4f823153.jpg\n",
      "Scott Pilgrim's Precious Little Life (Scott Pilgrim #1) - 94b1b8b244bce9677c2f29ccc890d4d2.jpg\n",
      "Rip it Up and Start Again - 81c4a973364e17d01f217e1188253d5e.jpg\n",
      "Our Band Could Be Your Life: Scenes from the American Indie Underground, 1981-1991 - 54607fe8945897cdcced0044103b10b6.jpg\n",
      "Olio - 553310a7162dfbc2c6d19a84da0df9e1.jpg\n",
      "Mesaerion: The Best Science Fiction Stories 1800-1849 - 09a3aef48557576e1a85ba7efea8ecb7.jpg\n",
      "Libertarianism for Beginners - 0bbcd0a6f4bcd81ccb1049a52736406e.jpg\n",
      "It's Only the Himalayas - 27a53d0bb95bdd88288eaf66c9230d7e.jpg\n"
     ]
    }
   ],
   "source": [
    "\n",
    "html_page = requests.get('http://books.toscrape.com/')\n",
    "soup = BeautifulSoup(html_page.content, 'html.parser')\n",
    "warning = soup.find('div', class_=\"alert alert-warning\")\n",
    "book_container = warning.nextSibling.nextSibling\n",
    "\n",
    "images = book_container.findAll('img')\n",
    "#example = images[0]\n",
    "count = 0\n",
    "for example in images:\n",
    "    count = count + 1\n",
    "    rl_base = \"http://books.toscrape.com/\" #Original website\n",
    "    url_ext = example.attrs['src'] #The extension you pulled earlier\n",
    "    full_url = url_base + url_ext  #Combining first 2 variables to create a complete URL\n",
    "    img_name = example.attrs['alt']\n",
    "    file_name = url_ext.split('/')[-1]\n",
    "    print(img_name+ \" - \"+file_name)\n",
    "    r = requests.get(full_url, stream=True) #Get request on full_url\n",
    "    if r.status_code == 200:                     #200 status code = OK\n",
    "       with open(\"images/book\"+str(count)+\".jpg\", 'wb') as f: \n",
    "          r.raw.decode_content = True\n",
    "          shutil.copyfileobj(r.raw, f)\n",
    "    with open('img_data.csv', 'a') as csv_file: \n",
    "        writer = csv.writer(csv_file)\n",
    "        writer.writerow([img_name, \"<img src='images/Book\"+str(count)+\".jpg'/>\"])\n"
   ]
  },
  {
   "cell_type": "code",
   "execution_count": 137,
   "metadata": {},
   "outputs": [],
   "source": [
    "data = pd.read_csv(\"C:/Users/Siddhant/Data Science/Web Scrapping/img_data.csv\",names=['Title', 'Cover'])"
   ]
  },
  {
   "cell_type": "code",
   "execution_count": 141,
   "metadata": {},
   "outputs": [
    {
     "data": {
      "text/html": [
       "<div>\n",
       "<style scoped>\n",
       "    .dataframe tbody tr th:only-of-type {\n",
       "        vertical-align: middle;\n",
       "    }\n",
       "\n",
       "    .dataframe tbody tr th {\n",
       "        vertical-align: top;\n",
       "    }\n",
       "\n",
       "    .dataframe thead th {\n",
       "        text-align: right;\n",
       "    }\n",
       "</style>\n",
       "<table border=\"1\" class=\"dataframe\">\n",
       "  <thead>\n",
       "    <tr style=\"text-align: right;\">\n",
       "      <th></th>\n",
       "      <th>Title</th>\n",
       "      <th>Cover</th>\n",
       "    </tr>\n",
       "  </thead>\n",
       "  <tbody>\n",
       "    <tr>\n",
       "      <th>35</th>\n",
       "      <td>Our Band Could Be Your Life: Scenes from the A...</td>\n",
       "      <td>&lt;img src='images/Book16.jpg'/&gt;</td>\n",
       "    </tr>\n",
       "    <tr>\n",
       "      <th>36</th>\n",
       "      <td>Olio</td>\n",
       "      <td>&lt;img src='images/Book17.jpg'/&gt;</td>\n",
       "    </tr>\n",
       "    <tr>\n",
       "      <th>37</th>\n",
       "      <td>Mesaerion: The Best Science Fiction Stories 18...</td>\n",
       "      <td>&lt;img src='images/Book18.jpg'/&gt;</td>\n",
       "    </tr>\n",
       "    <tr>\n",
       "      <th>38</th>\n",
       "      <td>Libertarianism for Beginners</td>\n",
       "      <td>&lt;img src='images/Book19.jpg'/&gt;</td>\n",
       "    </tr>\n",
       "    <tr>\n",
       "      <th>39</th>\n",
       "      <td>It's Only the Himalayas</td>\n",
       "      <td>&lt;img src='images/Book20.jpg'/&gt;</td>\n",
       "    </tr>\n",
       "  </tbody>\n",
       "</table>\n",
       "</div>"
      ],
      "text/plain": [
       "                                                Title  \\\n",
       "35  Our Band Could Be Your Life: Scenes from the A...   \n",
       "36                                               Olio   \n",
       "37  Mesaerion: The Best Science Fiction Stories 18...   \n",
       "38                       Libertarianism for Beginners   \n",
       "39                            It's Only the Himalayas   \n",
       "\n",
       "                             Cover  \n",
       "35  <img src='images/Book16.jpg'/>  \n",
       "36  <img src='images/Book17.jpg'/>  \n",
       "37  <img src='images/Book18.jpg'/>  \n",
       "38  <img src='images/Book19.jpg'/>  \n",
       "39  <img src='images/Book20.jpg'/>  "
      ]
     },
     "execution_count": 141,
     "metadata": {},
     "output_type": "execute_result"
    }
   ],
   "source": [
    "data.tail()"
   ]
  },
  {
   "cell_type": "code",
   "execution_count": 143,
   "metadata": {},
   "outputs": [
    {
     "data": {
      "text/html": [
       "<table border=\"1\" class=\"dataframe\">\n",
       "  <thead>\n",
       "    <tr style=\"text-align: right;\">\n",
       "      <th></th>\n",
       "      <th>Title</th>\n",
       "      <th>Cover</th>\n",
       "    </tr>\n",
       "  </thead>\n",
       "  <tbody>\n",
       "    <tr>\n",
       "      <th>35</th>\n",
       "      <td>Our Band Could Be Your Life: Scenes from the American Indie Underground, 1981-1991</td>\n",
       "      <td><img src='images/Book16.jpg'/></td>\n",
       "    </tr>\n",
       "    <tr>\n",
       "      <th>36</th>\n",
       "      <td>Olio</td>\n",
       "      <td><img src='images/Book17.jpg'/></td>\n",
       "    </tr>\n",
       "    <tr>\n",
       "      <th>37</th>\n",
       "      <td>Mesaerion: The Best Science Fiction Stories 1800-1849</td>\n",
       "      <td><img src='images/Book18.jpg'/></td>\n",
       "    </tr>\n",
       "    <tr>\n",
       "      <th>38</th>\n",
       "      <td>Libertarianism for Beginners</td>\n",
       "      <td><img src='images/Book19.jpg'/></td>\n",
       "    </tr>\n",
       "    <tr>\n",
       "      <th>39</th>\n",
       "      <td>It's Only the Himalayas</td>\n",
       "      <td><img src='images/Book20.jpg'/></td>\n",
       "    </tr>\n",
       "  </tbody>\n",
       "</table>"
      ],
      "text/plain": [
       "<IPython.core.display.HTML object>"
      ]
     },
     "execution_count": 143,
     "metadata": {},
     "output_type": "execute_result"
    }
   ],
   "source": [
    "HTML(data.tail().to_html(escape=False))"
   ]
  },
  {
   "cell_type": "code",
   "execution_count": null,
   "metadata": {},
   "outputs": [],
   "source": []
  }
 ],
 "metadata": {
  "kernelspec": {
   "display_name": "Python 3",
   "language": "python",
   "name": "python3"
  },
  "language_info": {
   "codemirror_mode": {
    "name": "ipython",
    "version": 3
   },
   "file_extension": ".py",
   "mimetype": "text/x-python",
   "name": "python",
   "nbconvert_exporter": "python",
   "pygments_lexer": "ipython3",
   "version": "3.8.3"
  }
 },
 "nbformat": 4,
 "nbformat_minor": 4
}
